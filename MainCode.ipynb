{
  "nbformat": 4,
  "nbformat_minor": 0,
  "metadata": {
    "colab": {
      "name": "CoupledTransmon_2.ipynb",
      "provenance": [],
      "collapsed_sections": []
    },
    "kernelspec": {
      "display_name": "Python 3",
      "language": "python",
      "name": "python3"
    },
    "language_info": {
      "codemirror_mode": {
        "name": "ipython",
        "version": 3
      },
      "file_extension": ".py",
      "mimetype": "text/x-python",
      "name": "python",
      "nbconvert_exporter": "python",
      "pygments_lexer": "ipython3",
      "version": "3.8.8"
    }
  },
  "cells": [
    {
      "cell_type": "code",
      "metadata": {
        "id": "EPrVIDavmEDQ"
      },
      "source": [
        "#stuff to do:\n",
        "#sigma x coupling\n",
        "#make the H dimensionless and introduce proper scales\n",
        "#naming of lines in graph i.e binary label\n",
        "#follow trajectories"
      ],
      "execution_count": null,
      "outputs": []
    },
    {
      "cell_type": "code",
      "metadata": {
        "colab": {
          "base_uri": "https://localhost:8080/"
        },
        "id": "mVyvK5bFs3y9",
        "outputId": "fe5f8265-d66d-4be0-9670-faeb7a42c616"
      },
      "source": [
        "!pip install qutip\n",
        "from qutip import *"
      ],
      "execution_count": null,
      "outputs": [
        {
          "name": "stdout",
          "output_type": "stream",
          "text": [
            "Requirement already satisfied: qutip in c:\\programdata\\anaconda3\\lib\\site-packages (4.6.2)\n",
            "Requirement already satisfied: scipy>=1.0 in c:\\programdata\\anaconda3\\lib\\site-packages (from qutip) (1.6.2)\n",
            "Requirement already satisfied: packaging in c:\\programdata\\anaconda3\\lib\\site-packages (from qutip) (20.9)\n",
            "Requirement already satisfied: numpy>=1.16.6 in c:\\programdata\\anaconda3\\lib\\site-packages (from qutip) (1.20.1)\n",
            "Requirement already satisfied: pyparsing>=2.0.2 in c:\\programdata\\anaconda3\\lib\\site-packages (from packaging->qutip) (2.4.7)\n"
          ]
        }
      ]
    },
    {
      "cell_type": "code",
      "metadata": {
        "id": "QivS9nllo2za"
      },
      "source": [
        "from tqdm import tqdm"
      ],
      "execution_count": null,
      "outputs": []
    },
    {
      "cell_type": "code",
      "metadata": {
        "id": "YwdC1PKstdJC"
      },
      "source": [
        "%matplotlib inline\n",
        "import matplotlib.pyplot as plt\n",
        "import numpy as np\n",
        "import time\n",
        "from mpl_toolkits.mplot3d import Axes3D\n",
        "import math"
      ],
      "execution_count": null,
      "outputs": []
    },
    {
      "cell_type": "code",
      "metadata": {
        "id": "iNTs1H6Ptiiv"
      },
      "source": [
        "#defining operators causes them to be stored in the RAM. TO decrease RAM usage, calculate operators in situ. This will increase runtime.\n",
        "def operators(N,Nlevel):\n",
        "  #N = number of transmons\n",
        "  #Nlevel = simulation level for bosonic operators\n",
        "    Neye = []\n",
        "    id = [] #tensored identiry operator\n",
        "    a = [] #list of tensored destruction operators\n",
        "    na = [] #list of number operators\n",
        "    #NOTE: a or na go as N*(Nlevel^2). Calculating them in Situ makes this go to only Nlevel^2\n",
        "    for i in  range(N):\n",
        "        Neye.append(qeye(Nlevel))\n",
        "    \n",
        "    for i in range(N):\n",
        "        temp = Neye.copy()\n",
        "        temp[i] = destroy(Nlevel)\n",
        "        a.append(tensor(temp))\n",
        "    \n",
        "    for i in range(N):\n",
        "        na.append(a[i].dag()*a[i])\n",
        "    \n",
        "    id = tensor(Neye) \n",
        "    \n",
        "    return id , a , na\n"
      ],
      "execution_count": null,
      "outputs": []
    },
    {
      "cell_type": "code",
      "metadata": {
        "id": "i6uM6ydC-rBk"
      },
      "source": [
        "#id, a, na = operators(2,2)"
      ],
      "execution_count": null,
      "outputs": []
    },
    {
      "cell_type": "code",
      "metadata": {
        "id": "Zpnpkaw1-yTV"
      },
      "source": [
        "#v = tensor(basis(2,0),basis(2,1))\n",
        "#expect(na,v)"
      ],
      "execution_count": null,
      "outputs": []
    },
    {
      "cell_type": "code",
      "metadata": {
        "id": "pnWxn8zxrFbV"
      },
      "source": [
        "def hamiltonian(id,a,na,Ec,Ej,T):\n",
        "    #id,a,na are the operators initialised earlier\n",
        "    #Ec is a number, Ej is a list of length equal to number of transmons\n",
        "    #t is a number\n",
        "    N = len(Ej)\n",
        "    #initialize v ,t\n",
        "    v = np.zeros(N)\n",
        "    t = np.zeros((N,N))\n",
        "    \n",
        "    for i in range(N):\n",
        "        v[i] = math.sqrt(8*Ej[i]*Ec)\n",
        "    \n",
        "    for i in range(N):\n",
        "        for j in range(N):\n",
        "            t[i][j] = (T/(4*(2*Ec)**(1/float(2))))*((Ej[i]*Ej[j])**(1/float(4)))\n",
        "    #NOTE: t is a symmetric matrix with non-zero diagonal elements. Hence, need to be careful while summation later\n",
        "  \n",
        "    \n",
        "    #hamiltonian has 3 parts, linear, non-linear and interation parts\n",
        "    H1 = 0\n",
        "    for i in range(N):\n",
        "        H1 = H1 + na[i]*v[i]\n",
        "    \n",
        "    H2 = 0\n",
        "    for i in range(N):\n",
        "        H2 = H2 + na[i]*(na[i]+1)\n",
        "    H2 = -0.5*H2*Ec\n",
        "    \n",
        "    \n",
        "    \n",
        "    H3 = 0\n",
        "    #NOTE: summation needs to be for i !=j parts only\n",
        "    for i in range(N):\n",
        "        for j in range(i+1,N):\n",
        "\n",
        "            H3 = H3 + t[i][j]*(a[i]*a[j].dag()+a[i].dag()*a[j])\n",
        "    return H1 + H2 + H3\n",
        "    \n",
        "    \n",
        "\n",
        "   \n",
        "    \n",
        "    \n",
        "    \n"
      ],
      "execution_count": null,
      "outputs": []
    },
    {
      "cell_type": "code",
      "metadata": {
        "id": "ZQaMdt0tV9Wu"
      },
      "source": [
        "def cstates(H,na):\n",
        "    #returns eigenvecs and eigenvalues of states that are computational\n",
        "    #i.e have at max 1 excitation of transmons\n",
        "    eigen_vals, eigen_vecs = H.eigenstates()\n",
        "    c_val = []\n",
        "    c_vec = []\n",
        "    for i in range(len(eigen_vals)):\n",
        "        c = 1\n",
        "        vec = eigen_vecs[i]\n",
        "        for nai in na:\n",
        "            if expect(nai,vec) > 1.1:\n",
        "                c = 0\n",
        "                break\n",
        "        if c==1 :\n",
        "            c_val.append(eigen_vals[i])\n",
        "            c_vec.append(eigen_vecs[i])\n",
        "\n",
        "    return c_val,c_vec"
      ],
      "execution_count": null,
      "outputs": []
    },
    {
      "cell_type": "code",
      "metadata": {
        "id": "x5wKed5ec6S6"
      },
      "source": [
        "#To mark trjectories, \n",
        "#1> Overlap Cstates on Normal Graph\n",
        "#2> Figureout eigenstates at T= 0 and graph their evolution (these won't be eigenstates later though)\n",
        "#3> Join points as on would do by hand. (no idea how to implement it yet)"
      ],
      "execution_count": null,
      "outputs": []
    },
    {
      "cell_type": "code",
      "metadata": {
        "id": "ZpraeiqrBSI-"
      },
      "source": [
        "#e,v = cstates(hamiltonian(id,a,na,Ec,Ej,0),na)\n",
        "#print(e,v)"
      ],
      "execution_count": null,
      "outputs": []
    },
    {
      "cell_type": "code",
      "metadata": {
        "id": "mCtKFUPNv3k0"
      },
      "source": [
        "#initial setting\n",
        "N = 6 #no of transmons\n",
        "Nlevel = 4 #bosonic operators to be simulated by \"Nlevel\" levels\n",
        "tlist = np.linspace(0, 0.2, 200) # coupling strength vector\n",
        "\n",
        "#Energy scale: Ej = 20Ghz, Ec = 250MHz, T = (5-20)MHz \n",
        "#ratio = 200/2.5/.1 \n",
        "Ej = np.absolute(np.random.normal(200,50, N))\n",
        "Ec = 2.5\n",
        "id, a, na = operators(N, Nlevel)"
      ],
      "execution_count": null,
      "outputs": []
    },
    {
      "cell_type": "code",
      "metadata": {
        "colab": {
          "base_uri": "https://localhost:8080/"
        },
        "id": "ioTIRmnMCQX-",
        "outputId": "1c730926-97bf-4695-dad8-80eb541609fa"
      },
      "source": [
        "Ej"
      ],
      "execution_count": null,
      "outputs": [
        {
          "data": {
            "text/plain": [
              "array([44.15799025, 47.59279566, 52.46157507, 55.40424068, 49.51091266,\n",
              "       47.72373511])"
            ]
          },
          "execution_count": 61,
          "metadata": {},
          "output_type": "execute_result"
        }
      ]
    },
    {
      "cell_type": "code",
      "metadata": {
        "id": "woKs48ggbtnO"
      },
      "source": [
        "#def plot_points(state,):\n"
      ],
      "execution_count": null,
      "outputs": []
    },
    {
      "cell_type": "code",
      "metadata": {
        "colab": {
          "base_uri": "https://localhost:8080/"
        },
        "id": "eQpZCnf389TU",
        "outputId": "a0d56248-bd8d-4114-d07f-026caeaa4402"
      },
      "source": [
        "x = []\n",
        "y = []\n",
        "\n",
        "for t in tqdm(tlist):\n",
        "    #print(t)\n",
        "    H = hamiltonian(id,a,na,Ec,Ej,t)\n",
        "    evals = H.eigenenergies()\n",
        "    #print(t,evals,\"\\n\")\n",
        "    for e in evals:\n",
        "        x.append(t)\n",
        "        y.append(e)"
      ],
      "execution_count": null,
      "outputs": [
        {
          "name": "stderr",
          "output_type": "stream",
          "text": [
            "100%|████████████████████████████████████████████████████████████████████████████████| 200/200 [10:04<00:00,  3.02s/it]\n"
          ]
        }
      ]
    },
    {
      "cell_type": "code",
      "metadata": {
        "id": "Wa-Mnnjk19aW"
      },
      "source": [
        "plt.figure(figsize=(15, 15))\n",
        "plt.scatter(x,y,s = 0.5)\n",
        "plt.title(str(N) + \" tranmons \" + str(Nlevel)+ \" level systems\")\n",
        "plt.xlabel(\"T value\")\n",
        "plt.ylabel(\"eigenvalues\")"
      ],
      "execution_count": null,
      "outputs": []
    },
    {
      "cell_type": "code",
      "metadata": {
        "id": "aAOCzLphHIfC",
        "outputId": "2fdb9fd0-221a-4d84-caa0-c06620c565e5"
      },
      "source": [
        "'''\n",
        "#zoom for normal figure\n",
        "x2 = []\n",
        "y2 = []\n",
        "for i in range(len(y)):\n",
        "    if y[i] > 101.5 and y[i]<103:\n",
        "        x2.append(x[i])\n",
        "        y2.append(y[i])\n",
        "\n",
        "\n",
        "plt.figure(figsize=(15, 15))\n",
        "plt.scatter(x2,y2,s = 0.5)\n",
        "plt.title(str(N) + \" tranmons \" + str(Nlevel)+ \" level systems\"+ \" zoomed in\")\n",
        "plt.xlabel(\"T value\")\n",
        "plt.ylabel(\"eigenvalues\")\n",
        "'''\n"
      ],
      "execution_count": null,
      "outputs": [
        {
          "data": {
            "text/plain": [
              "'\\n#zoom for normal figure\\nx2 = []\\ny2 = []\\nfor i in range(len(y)):\\n    if y[i] > 101.5 and y[i]<103:\\n        x2.append(x[i])\\n        y2.append(y[i])\\n\\n\\nplt.figure(figsize=(15, 15))\\nplt.scatter(x2,y2,s = 0.5)\\nplt.title(str(N) + \" tranmons \" + str(Nlevel)+ \" level systems\"+ \" zoomed in\")\\nplt.xlabel(\"T value\")\\nplt.ylabel(\"eigenvalues\")\\n'"
            ]
          },
          "execution_count": 64,
          "metadata": {},
          "output_type": "execute_result"
        }
      ]
    },
    {
      "cell_type": "code",
      "metadata": {
        "colab": {
          "base_uri": "https://localhost:8080/"
        },
        "id": "B4zQezThfqna",
        "outputId": "0a5a76a7-b495-4ed2-de0d-a9df4832bb51"
      },
      "source": [
        "#computational states only\n",
        "xc = []\n",
        "yc = []\n",
        "\n",
        "for t in tqdm(tlist):\n",
        "    #print(t)\n",
        "    H = hamiltonian(id,a,na,Ec,Ej,t)\n",
        "    evals,evecs = cstates(H, na)\n",
        "    #print(t,evals,\"\\n\")\n",
        "    for e in evals:\n",
        "        xc.append(t)\n",
        "        yc.append(e)"
      ],
      "execution_count": null,
      "outputs": [
        {
          "name": "stderr",
          "output_type": "stream",
          "text": [
            "100%|████████████████████████████████████████████████████████████████████████████████| 200/200 [57:56<00:00, 17.38s/it]\n"
          ]
        }
      ]
    },
    {
      "cell_type": "code",
      "metadata": {
        "id": "RfZb3zTNalYO"
      },
      "source": [
        "plt.figure(figsize=(10, 10))\n",
        "plt.scatter(xc,yc,s = 0.5)\n",
        "plt.title(str(N) + \" tranmons \" + str(Nlevel)+ \" level systems\"+\" c states\")\n",
        "plt.xlabel(\"T value\")\n",
        "plt.ylabel(\"eigenvalues\")"
      ],
      "execution_count": null,
      "outputs": []
    },
    {
      "cell_type": "code",
      "metadata": {
        "id": "gUWrlS57AsxR",
        "outputId": "02d5414f-ab31-42bc-fe06-3d85888cd57b"
      },
      "source": [
        "\"\"\"\n",
        "#zoomed version of computational states only\n",
        "xc2 = []\n",
        "yc2 = []\n",
        "for i in range(len(yc)):\n",
        "    if yc[i] > 30 and yc[i]<45:\n",
        "        xc2.append(xc[i])\n",
        "        yc2.append(yc[i])\n",
        "\n",
        "\n",
        "plt.figure(figsize=(10, 10))\n",
        "plt.scatter(xc2,yc2,s = 0.5)\n",
        "plt.title(str(N) + \" tranmons \" + str(Nlevel)+ \" level systems c states\"+ \" zoomed in\")\n",
        "plt.xlabel(\"T value\")\n",
        "plt.ylabel(\"eigenvalues\")\n",
        "\"\"\""
      ],
      "execution_count": null,
      "outputs": [
        {
          "data": {
            "text/plain": [
              "'\\n#zoomed version of computational states only\\nxc2 = []\\nyc2 = []\\nfor i in range(len(yc)):\\n    if yc[i] > 30 and yc[i]<45:\\n        xc2.append(xc[i])\\n        yc2.append(yc[i])\\n\\n\\nplt.figure(figsize=(10, 10))\\nplt.scatter(xc2,yc2,s = 0.5)\\nplt.title(str(N) + \" tranmons \" + str(Nlevel)+ \" level systems c states\"+ \" zoomed in\")\\nplt.xlabel(\"T value\")\\nplt.ylabel(\"eigenvalues\")\\n'"
            ]
          },
          "execution_count": 67,
          "metadata": {},
          "output_type": "execute_result"
        }
      ]
    },
    {
      "cell_type": "code",
      "metadata": {
        "id": "mPnWn-sUA_e8"
      },
      "source": [
        "#to overlap plots of cstates on normal\n",
        "#proly the dumbest way to do it\n",
        "plt.figure(figsize=(15, 15))\n",
        "plt.scatter(x,y,s = 0.5)\n",
        "plt.scatter(xc,yc,s=0.5,color = 'hotpink')\n",
        "plt.title(str(N) + \" tranmons \" + str(Nlevel)+ \" level systems overlapped\")\n",
        "plt.xlabel(\"T value\")\n",
        "plt.ylabel(\"eigenvalues\")"
      ],
      "execution_count": null,
      "outputs": []
    },
    {
      "cell_type": "code",
      "metadata": {
        "id": "jsU_PWCChtWz"
      },
      "source": [
        "maxy = max(yc)\n",
        "x3 = []\n",
        "y3 = []\n",
        "for i in range(len(y)):\n",
        "    if y[i]<maxy:\n",
        "        x3.append(x[i])\n",
        "        y3.append(y[i])"
      ],
      "execution_count": null,
      "outputs": []
    },
    {
      "cell_type": "code",
      "metadata": {
        "id": "tXVF_O87eakZ"
      },
      "source": [
        "plt.figure(figsize=(20, 20))\n",
        "plt.scatter(x3,y3,s = 0.5)\n",
        "plt.scatter(xc,yc,s=0.5,color = 'hotpink')\n",
        "plt.title(str(N) + \" tranmons \" + str(Nlevel)+ \" level systems overlap truncated\")\n",
        "plt.xlabel(\"T value\")\n",
        "plt.ylabel(\"eigenvalues\")"
      ],
      "execution_count": null,
      "outputs": []
    },
    {
      "cell_type": "code",
      "metadata": {
        "id": "R0i3-Rvo3R5h"
      },
      "source": [
        "maxy = max(yc)\n",
        "x4 = []\n",
        "y4 = []\n",
        "for i in range(len(y)):\n",
        "    if y[i]>25 and y[i]<60:\n",
        "        x4.append(x[i])\n",
        "        y4.append(y[i])\n",
        "\n",
        "        \n",
        "xc4 = []\n",
        "yc4 = []\n",
        "for i in range(len(yc)):\n",
        "    if yc[i] > 25 and yc[i]<60:\n",
        "        xc4.append(xc[i])\n",
        "        yc4.append(yc[i])"
      ],
      "execution_count": null,
      "outputs": []
    },
    {
      "cell_type": "code",
      "metadata": {
        "id": "WefKH5ur3R5h"
      },
      "source": [
        "plt.figure(figsize=(20, 20))\n",
        "plt.scatter(x4,y4,s = 0.5)\n",
        "plt.scatter(xc4,yc4,s=0.5,color = 'hotpink')\n",
        "plt.title(str(N) + \" tranmons \" + str(Nlevel)+ \" level systems truncated\"+ \" zoomed in\")\n",
        "plt.xlabel(\"T value\")\n",
        "plt.ylabel(\"eigenvalues\")"
      ],
      "execution_count": null,
      "outputs": []
    }
  ]
}
